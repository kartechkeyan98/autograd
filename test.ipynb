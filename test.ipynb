{
 "cells": [
  {
   "cell_type": "code",
   "execution_count": 6,
   "metadata": {},
   "outputs": [
    {
     "name": "stdout",
     "output_type": "stream",
     "text": [
      "Yo bruh\n",
      "7.0 5.0\n",
      "var_0 var_1\n"
     ]
    }
   ],
   "source": [
    "import importlib\n",
    "import sys\n",
    "\n",
    "_ = importlib.reload(sys.modules['autoflow'])\n",
    "\n",
    "from autoflow import *\n",
    "\n",
    "n1 = variable(4)\n",
    "n2 = variable(6)\n",
    "\n",
    "n3 = n1 * n2\n",
    "n4 = n1 + n2\n",
    "n5 = n3 + n4\n",
    "backward(n5)\n",
    "reset()\n",
    "\n",
    "print(n1.grad, n2.grad)\n",
    "print(n1.name, n2.name)"
   ]
  },
  {
   "cell_type": "code",
   "execution_count": null,
   "metadata": {},
   "outputs": [],
   "source": []
  }
 ],
 "metadata": {
  "kernelspec": {
   "display_name": "portal1",
   "language": "python",
   "name": "python3"
  },
  "language_info": {
   "codemirror_mode": {
    "name": "ipython",
    "version": 3
   },
   "file_extension": ".py",
   "mimetype": "text/x-python",
   "name": "python",
   "nbconvert_exporter": "python",
   "pygments_lexer": "ipython3",
   "version": "3.10.12"
  }
 },
 "nbformat": 4,
 "nbformat_minor": 2
}
